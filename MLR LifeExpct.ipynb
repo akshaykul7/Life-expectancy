{
 "cells": [
  {
   "cell_type": "markdown",
   "metadata": {},
   "source": [
    "# Objective\n",
    "\n",
    "* Identify the Which Platform have more impact on Sales \n",
    "\n",
    "* To build the Model which will help to Predict the future sales based on Money invest in Different Platform "
   ]
  },
  {
   "cell_type": "code",
   "execution_count": 1,
   "metadata": {},
   "outputs": [],
   "source": [
    "################################## Data Analysis & Calculation ##################################\n",
    "\n",
    "import pandas as pd \n",
    "import numpy as np \n",
    "\n",
    "################# Machine Learning ################\n",
    "from statsmodels.stats.outliers_influence import variance_inflation_factor\n",
    "import math\n",
    "from sklearn.metrics import mean_squared_error\n",
    "from sklearn.metrics import r2_score\n",
    "\n",
    "################# Data Visualization ################\n",
    "import seaborn as sns\n",
    "from matplotlib import pyplot as plt\n",
    "%matplotlib inline\n"
   ]
  },
  {
   "cell_type": "markdown",
   "metadata": {},
   "source": [
    "# Data Import"
   ]
  },
  {
   "cell_type": "code",
   "execution_count": 2,
   "metadata": {},
   "outputs": [
    {
     "data": {
      "text/html": [
       "<div>\n",
       "<style scoped>\n",
       "    .dataframe tbody tr th:only-of-type {\n",
       "        vertical-align: middle;\n",
       "    }\n",
       "\n",
       "    .dataframe tbody tr th {\n",
       "        vertical-align: top;\n",
       "    }\n",
       "\n",
       "    .dataframe thead th {\n",
       "        text-align: right;\n",
       "    }\n",
       "</style>\n",
       "<table border=\"1\" class=\"dataframe\">\n",
       "  <thead>\n",
       "    <tr style=\"text-align: right;\">\n",
       "      <th></th>\n",
       "      <th>Data PC1</th>\n",
       "      <th>Data PC2</th>\n",
       "      <th>Data PC3</th>\n",
       "      <th>Data PC4</th>\n",
       "      <th>Data PC5</th>\n",
       "      <th>Status</th>\n",
       "      <th>Life expectancy</th>\n",
       "    </tr>\n",
       "  </thead>\n",
       "  <tbody>\n",
       "    <tr>\n",
       "      <th>0</th>\n",
       "      <td>5.371610</td>\n",
       "      <td>0.743836</td>\n",
       "      <td>2.998958</td>\n",
       "      <td>0.237777</td>\n",
       "      <td>-0.510412</td>\n",
       "      <td>0.460348</td>\n",
       "      <td>-0.445672</td>\n",
       "    </tr>\n",
       "    <tr>\n",
       "      <th>1</th>\n",
       "      <td>4.965979</td>\n",
       "      <td>0.421790</td>\n",
       "      <td>0.790446</td>\n",
       "      <td>1.160532</td>\n",
       "      <td>0.044961</td>\n",
       "      <td>0.460348</td>\n",
       "      <td>-0.982602</td>\n",
       "    </tr>\n",
       "    <tr>\n",
       "      <th>2</th>\n",
       "      <td>4.993136</td>\n",
       "      <td>0.310608</td>\n",
       "      <td>2.576559</td>\n",
       "      <td>0.233631</td>\n",
       "      <td>-0.346038</td>\n",
       "      <td>0.460348</td>\n",
       "      <td>-0.982602</td>\n",
       "    </tr>\n",
       "    <tr>\n",
       "      <th>3</th>\n",
       "      <td>4.960212</td>\n",
       "      <td>0.056763</td>\n",
       "      <td>1.563015</td>\n",
       "      <td>0.814386</td>\n",
       "      <td>0.325235</td>\n",
       "      <td>0.460348</td>\n",
       "      <td>-1.024714</td>\n",
       "    </tr>\n",
       "    <tr>\n",
       "      <th>4</th>\n",
       "      <td>5.065702</td>\n",
       "      <td>-0.162623</td>\n",
       "      <td>1.483289</td>\n",
       "      <td>0.755846</td>\n",
       "      <td>0.209046</td>\n",
       "      <td>0.460348</td>\n",
       "      <td>-1.056298</td>\n",
       "    </tr>\n",
       "    <tr>\n",
       "      <th>...</th>\n",
       "      <td>...</td>\n",
       "      <td>...</td>\n",
       "      <td>...</td>\n",
       "      <td>...</td>\n",
       "      <td>...</td>\n",
       "      <td>...</td>\n",
       "      <td>...</td>\n",
       "    </tr>\n",
       "    <tr>\n",
       "      <th>2923</th>\n",
       "      <td>3.923369</td>\n",
       "      <td>0.813591</td>\n",
       "      <td>-0.975157</td>\n",
       "      <td>0.142500</td>\n",
       "      <td>1.476260</td>\n",
       "      <td>0.460348</td>\n",
       "      <td>-2.624974</td>\n",
       "    </tr>\n",
       "    <tr>\n",
       "      <th>2924</th>\n",
       "      <td>4.799623</td>\n",
       "      <td>1.716053</td>\n",
       "      <td>-0.206273</td>\n",
       "      <td>0.421670</td>\n",
       "      <td>0.941105</td>\n",
       "      <td>0.460348</td>\n",
       "      <td>-2.603918</td>\n",
       "    </tr>\n",
       "    <tr>\n",
       "      <th>2925</th>\n",
       "      <td>1.828564</td>\n",
       "      <td>1.402656</td>\n",
       "      <td>-1.471037</td>\n",
       "      <td>-1.146179</td>\n",
       "      <td>0.147969</td>\n",
       "      <td>0.460348</td>\n",
       "      <td>-2.572334</td>\n",
       "    </tr>\n",
       "    <tr>\n",
       "      <th>2926</th>\n",
       "      <td>2.827682</td>\n",
       "      <td>1.087002</td>\n",
       "      <td>-0.844753</td>\n",
       "      <td>-1.438488</td>\n",
       "      <td>1.165557</td>\n",
       "      <td>0.460348</td>\n",
       "      <td>-2.519694</td>\n",
       "    </tr>\n",
       "    <tr>\n",
       "      <th>2927</th>\n",
       "      <td>4.093644</td>\n",
       "      <td>-0.334349</td>\n",
       "      <td>0.326651</td>\n",
       "      <td>0.197701</td>\n",
       "      <td>1.699032</td>\n",
       "      <td>0.460348</td>\n",
       "      <td>-2.445997</td>\n",
       "    </tr>\n",
       "  </tbody>\n",
       "</table>\n",
       "<p>2928 rows × 7 columns</p>\n",
       "</div>"
      ],
      "text/plain": [
       "      Data PC1  Data PC2  Data PC3  Data PC4  Data PC5    Status  \\\n",
       "0     5.371610  0.743836  2.998958  0.237777 -0.510412  0.460348   \n",
       "1     4.965979  0.421790  0.790446  1.160532  0.044961  0.460348   \n",
       "2     4.993136  0.310608  2.576559  0.233631 -0.346038  0.460348   \n",
       "3     4.960212  0.056763  1.563015  0.814386  0.325235  0.460348   \n",
       "4     5.065702 -0.162623  1.483289  0.755846  0.209046  0.460348   \n",
       "...        ...       ...       ...       ...       ...       ...   \n",
       "2923  3.923369  0.813591 -0.975157  0.142500  1.476260  0.460348   \n",
       "2924  4.799623  1.716053 -0.206273  0.421670  0.941105  0.460348   \n",
       "2925  1.828564  1.402656 -1.471037 -1.146179  0.147969  0.460348   \n",
       "2926  2.827682  1.087002 -0.844753 -1.438488  1.165557  0.460348   \n",
       "2927  4.093644 -0.334349  0.326651  0.197701  1.699032  0.460348   \n",
       "\n",
       "      Life expectancy   \n",
       "0            -0.445672  \n",
       "1            -0.982602  \n",
       "2            -0.982602  \n",
       "3            -1.024714  \n",
       "4            -1.056298  \n",
       "...                ...  \n",
       "2923         -2.624974  \n",
       "2924         -2.603918  \n",
       "2925         -2.572334  \n",
       "2926         -2.519694  \n",
       "2927         -2.445997  \n",
       "\n",
       "[2928 rows x 7 columns]"
      ]
     },
     "execution_count": 2,
     "metadata": {},
     "output_type": "execute_result"
    }
   ],
   "source": [
    "df = pd.read_csv(r\"C:\\Users\\Akshay\\Downloads\\df_finalMLR.csv\")\n",
    "df"
   ]
  },
  {
   "cell_type": "code",
   "execution_count": 21,
   "metadata": {},
   "outputs": [
    {
     "data": {
      "text/plain": [
       "Index(['Data PC1', 'Data PC2', 'Data PC3', 'Data PC4', 'Data PC5', 'Status',\n",
       "       'Life expectancy '],\n",
       "      dtype='object')"
      ]
     },
     "execution_count": 21,
     "metadata": {},
     "output_type": "execute_result"
    }
   ],
   "source": [
    "df.columns"
   ]
  },
  {
   "cell_type": "code",
   "execution_count": 22,
   "metadata": {},
   "outputs": [],
   "source": [
    "df=df.rename(columns={'Life expectancy ':'Life_expectancy'})"
   ]
  },
  {
   "cell_type": "code",
   "execution_count": 23,
   "metadata": {},
   "outputs": [],
   "source": [
    "# Putting feature variable to X\n",
    "X = df.drop('Life_expectancy', axis= 1)\n",
    "\n",
    "# Putting response variable to y\n",
    "y = df[['Life_expectancy']]\n",
    "\n",
    "#random_state is the seed used by the random number generator. It can be any integer.\n",
    "from sklearn.model_selection import train_test_split\n",
    "X_train, X_test, y_train, y_test =train_test_split(X, y, train_size=0.7 ,random_state=120)"
   ]
  },
  {
   "cell_type": "code",
   "execution_count": 24,
   "metadata": {},
   "outputs": [
    {
     "data": {
      "text/html": [
       "<div>\n",
       "<style scoped>\n",
       "    .dataframe tbody tr th:only-of-type {\n",
       "        vertical-align: middle;\n",
       "    }\n",
       "\n",
       "    .dataframe tbody tr th {\n",
       "        vertical-align: top;\n",
       "    }\n",
       "\n",
       "    .dataframe thead th {\n",
       "        text-align: right;\n",
       "    }\n",
       "</style>\n",
       "<table border=\"1\" class=\"dataframe\">\n",
       "  <thead>\n",
       "    <tr style=\"text-align: right;\">\n",
       "      <th></th>\n",
       "      <th>Life_expectancy</th>\n",
       "      <th>Data PC1</th>\n",
       "      <th>Data PC2</th>\n",
       "      <th>Data PC3</th>\n",
       "      <th>Data PC4</th>\n",
       "      <th>Data PC5</th>\n",
       "      <th>Status</th>\n",
       "    </tr>\n",
       "  </thead>\n",
       "  <tbody>\n",
       "    <tr>\n",
       "      <th>2131</th>\n",
       "      <td>0.038617</td>\n",
       "      <td>-1.863914</td>\n",
       "      <td>0.580560</td>\n",
       "      <td>1.936188</td>\n",
       "      <td>-0.695173</td>\n",
       "      <td>1.230475</td>\n",
       "      <td>0.460348</td>\n",
       "    </tr>\n",
       "    <tr>\n",
       "      <th>1581</th>\n",
       "      <td>-2.635502</td>\n",
       "      <td>3.755300</td>\n",
       "      <td>0.630651</td>\n",
       "      <td>-0.377662</td>\n",
       "      <td>0.023922</td>\n",
       "      <td>-0.185434</td>\n",
       "      <td>0.460348</td>\n",
       "    </tr>\n",
       "    <tr>\n",
       "      <th>2528</th>\n",
       "      <td>-0.498312</td>\n",
       "      <td>1.724196</td>\n",
       "      <td>2.358652</td>\n",
       "      <td>-0.940896</td>\n",
       "      <td>0.491071</td>\n",
       "      <td>-1.605473</td>\n",
       "      <td>0.460348</td>\n",
       "    </tr>\n",
       "    <tr>\n",
       "      <th>985</th>\n",
       "      <td>0.491322</td>\n",
       "      <td>-1.240389</td>\n",
       "      <td>0.075383</td>\n",
       "      <td>-0.928810</td>\n",
       "      <td>-0.752553</td>\n",
       "      <td>-0.023132</td>\n",
       "      <td>0.460348</td>\n",
       "    </tr>\n",
       "    <tr>\n",
       "      <th>956</th>\n",
       "      <td>-1.003658</td>\n",
       "      <td>1.322908</td>\n",
       "      <td>1.377440</td>\n",
       "      <td>-1.603669</td>\n",
       "      <td>2.210433</td>\n",
       "      <td>-0.829370</td>\n",
       "      <td>0.460348</td>\n",
       "    </tr>\n",
       "  </tbody>\n",
       "</table>\n",
       "</div>"
      ],
      "text/plain": [
       "      Life_expectancy  Data PC1  Data PC2  Data PC3  Data PC4  Data PC5  \\\n",
       "2131         0.038617 -1.863914  0.580560  1.936188 -0.695173  1.230475   \n",
       "1581        -2.635502  3.755300  0.630651 -0.377662  0.023922 -0.185434   \n",
       "2528        -0.498312  1.724196  2.358652 -0.940896  0.491071 -1.605473   \n",
       "985          0.491322 -1.240389  0.075383 -0.928810 -0.752553 -0.023132   \n",
       "956         -1.003658  1.322908  1.377440 -1.603669  2.210433 -0.829370   \n",
       "\n",
       "        Status  \n",
       "2131  0.460348  \n",
       "1581  0.460348  \n",
       "2528  0.460348  \n",
       "985   0.460348  \n",
       "956   0.460348  "
      ]
     },
     "execution_count": 24,
     "metadata": {},
     "output_type": "execute_result"
    }
   ],
   "source": [
    "df_f = pd.concat([y_train, X_train], axis=1)\n",
    "df_f.head()"
   ]
  },
  {
   "cell_type": "markdown",
   "metadata": {},
   "source": [
    "### Multicolinearity (with the help of VIF)"
   ]
  },
  {
   "cell_type": "code",
   "execution_count": 25,
   "metadata": {},
   "outputs": [
    {
     "data": {
      "text/plain": [
       "Data PC1    1.464544\n",
       "Data PC2    1.108309\n",
       "Data PC3    1.019857\n",
       "Data PC4    1.002861\n",
       "Data PC5    1.051122\n",
       "Status      1.635562\n",
       "dtype: float64"
      ]
     },
     "execution_count": 25,
     "metadata": {},
     "output_type": "execute_result"
    }
   ],
   "source": [
    "X1=df_f.drop(['Life_expectancy'],axis=1)\n",
    "VIF = pd.Series([variance_inflation_factor(X1.values, i) # i = 0\n",
    "                           for i in range(X1.shape[1])],  # i=0,1,2\n",
    "                          index=X1.columns)  # column name\n",
    "VIF"
   ]
  },
  {
   "cell_type": "markdown",
   "metadata": {},
   "source": [
    "* No collinearity in the data, indicate no multi colinearity "
   ]
  },
  {
   "cell_type": "markdown",
   "metadata": {},
   "source": [
    "# Model Building"
   ]
  },
  {
   "cell_type": "code",
   "execution_count": 26,
   "metadata": {},
   "outputs": [],
   "source": [
    "from sklearn.linear_model import LinearRegression\n",
    "lreg = LinearRegression()\n",
    "Model3= lreg.fit(X_train,y_train)"
   ]
  },
  {
   "cell_type": "code",
   "execution_count": 27,
   "metadata": {},
   "outputs": [
    {
     "data": {
      "text/plain": [
       "array([0.0039])"
      ]
     },
     "execution_count": 27,
     "metadata": {},
     "output_type": "execute_result"
    }
   ],
   "source": [
    "np.round(Model3.intercept_,4)"
   ]
  },
  {
   "cell_type": "code",
   "execution_count": 28,
   "metadata": {
    "scrolled": true
   },
   "outputs": [
    {
     "data": {
      "text/plain": [
       "array([[-0.2961, -0.0432,  0.1315,  0.0006, -0.2331, -0.1004]])"
      ]
     },
     "execution_count": 28,
     "metadata": {},
     "output_type": "execute_result"
    }
   ],
   "source": [
    "np.round(Model3.coef_,4)"
   ]
  },
  {
   "cell_type": "code",
   "execution_count": 29,
   "metadata": {},
   "outputs": [
    {
     "data": {
      "text/plain": [
       "0.814"
      ]
     },
     "execution_count": 29,
     "metadata": {},
     "output_type": "execute_result"
    }
   ],
   "source": [
    "np.round(Model3.score(X_train,y_train),3)"
   ]
  },
  {
   "cell_type": "code",
   "execution_count": 30,
   "metadata": {},
   "outputs": [
    {
     "data": {
      "text/plain": [
       "0.4518736998999999"
      ]
     },
     "execution_count": 30,
     "metadata": {},
     "output_type": "execute_result"
    }
   ],
   "source": [
    "Y = 0.0039 + (-0.2961* -1.863914) + (-0.0432*0.580560)+(0.1315*1.936188)+(0.0006*-0.695173)+(-0.2331*1.230475)+(-0.1004*0.460348)\n",
    "Y"
   ]
  },
  {
   "cell_type": "markdown",
   "metadata": {},
   "source": [
    "# Assumption of Model\n",
    "\n",
    "* Linearity\n",
    "* Normality\n",
    "* Homoscedasicity\n",
    "* Model Error has to be independently identificaly Distibuted"
   ]
  },
  {
   "cell_type": "code",
   "execution_count": 31,
   "metadata": {},
   "outputs": [
    {
     "data": {
      "text/html": [
       "<div>\n",
       "<style scoped>\n",
       "    .dataframe tbody tr th:only-of-type {\n",
       "        vertical-align: middle;\n",
       "    }\n",
       "\n",
       "    .dataframe tbody tr th {\n",
       "        vertical-align: top;\n",
       "    }\n",
       "\n",
       "    .dataframe thead th {\n",
       "        text-align: right;\n",
       "    }\n",
       "</style>\n",
       "<table border=\"1\" class=\"dataframe\">\n",
       "  <thead>\n",
       "    <tr style=\"text-align: right;\">\n",
       "      <th></th>\n",
       "      <th>Life_expectancy</th>\n",
       "      <th>Data PC1</th>\n",
       "      <th>Data PC2</th>\n",
       "      <th>Data PC3</th>\n",
       "      <th>Data PC4</th>\n",
       "      <th>Data PC5</th>\n",
       "      <th>Status</th>\n",
       "    </tr>\n",
       "  </thead>\n",
       "  <tbody>\n",
       "    <tr>\n",
       "      <th>2131</th>\n",
       "      <td>0.038617</td>\n",
       "      <td>-1.863914</td>\n",
       "      <td>0.580560</td>\n",
       "      <td>1.936188</td>\n",
       "      <td>-0.695173</td>\n",
       "      <td>1.230475</td>\n",
       "      <td>0.460348</td>\n",
       "    </tr>\n",
       "    <tr>\n",
       "      <th>1581</th>\n",
       "      <td>-2.635502</td>\n",
       "      <td>3.755300</td>\n",
       "      <td>0.630651</td>\n",
       "      <td>-0.377662</td>\n",
       "      <td>0.023922</td>\n",
       "      <td>-0.185434</td>\n",
       "      <td>0.460348</td>\n",
       "    </tr>\n",
       "    <tr>\n",
       "      <th>2528</th>\n",
       "      <td>-0.498312</td>\n",
       "      <td>1.724196</td>\n",
       "      <td>2.358652</td>\n",
       "      <td>-0.940896</td>\n",
       "      <td>0.491071</td>\n",
       "      <td>-1.605473</td>\n",
       "      <td>0.460348</td>\n",
       "    </tr>\n",
       "    <tr>\n",
       "      <th>985</th>\n",
       "      <td>0.491322</td>\n",
       "      <td>-1.240389</td>\n",
       "      <td>0.075383</td>\n",
       "      <td>-0.928810</td>\n",
       "      <td>-0.752553</td>\n",
       "      <td>-0.023132</td>\n",
       "      <td>0.460348</td>\n",
       "    </tr>\n",
       "    <tr>\n",
       "      <th>956</th>\n",
       "      <td>-1.003658</td>\n",
       "      <td>1.322908</td>\n",
       "      <td>1.377440</td>\n",
       "      <td>-1.603669</td>\n",
       "      <td>2.210433</td>\n",
       "      <td>-0.829370</td>\n",
       "      <td>0.460348</td>\n",
       "    </tr>\n",
       "  </tbody>\n",
       "</table>\n",
       "</div>"
      ],
      "text/plain": [
       "      Life_expectancy  Data PC1  Data PC2  Data PC3  Data PC4  Data PC5  \\\n",
       "2131         0.038617 -1.863914  0.580560  1.936188 -0.695173  1.230475   \n",
       "1581        -2.635502  3.755300  0.630651 -0.377662  0.023922 -0.185434   \n",
       "2528        -0.498312  1.724196  2.358652 -0.940896  0.491071 -1.605473   \n",
       "985          0.491322 -1.240389  0.075383 -0.928810 -0.752553 -0.023132   \n",
       "956         -1.003658  1.322908  1.377440 -1.603669  2.210433 -0.829370   \n",
       "\n",
       "        Status  \n",
       "2131  0.460348  \n",
       "1581  0.460348  \n",
       "2528  0.460348  \n",
       "985   0.460348  \n",
       "956   0.460348  "
      ]
     },
     "execution_count": 31,
     "metadata": {},
     "output_type": "execute_result"
    }
   ],
   "source": [
    "df_f.head()"
   ]
  },
  {
   "cell_type": "code",
   "execution_count": 32,
   "metadata": {},
   "outputs": [
    {
     "data": {
      "text/html": [
       "<div>\n",
       "<style scoped>\n",
       "    .dataframe tbody tr th:only-of-type {\n",
       "        vertical-align: middle;\n",
       "    }\n",
       "\n",
       "    .dataframe tbody tr th {\n",
       "        vertical-align: top;\n",
       "    }\n",
       "\n",
       "    .dataframe thead th {\n",
       "        text-align: right;\n",
       "    }\n",
       "</style>\n",
       "<table border=\"1\" class=\"dataframe\">\n",
       "  <thead>\n",
       "    <tr style=\"text-align: right;\">\n",
       "      <th></th>\n",
       "      <th>Life_expectancy</th>\n",
       "      <th>Data PC1</th>\n",
       "      <th>Data PC2</th>\n",
       "      <th>Data PC3</th>\n",
       "      <th>Data PC4</th>\n",
       "      <th>Data PC5</th>\n",
       "      <th>Status</th>\n",
       "      <th>fitted_value</th>\n",
       "      <th>residual</th>\n",
       "    </tr>\n",
       "  </thead>\n",
       "  <tbody>\n",
       "    <tr>\n",
       "      <th>2131</th>\n",
       "      <td>0.038617</td>\n",
       "      <td>-1.863914</td>\n",
       "      <td>0.580560</td>\n",
       "      <td>1.936188</td>\n",
       "      <td>-0.695173</td>\n",
       "      <td>1.230475</td>\n",
       "      <td>0.460348</td>\n",
       "      <td>0.5</td>\n",
       "      <td>-0.5</td>\n",
       "    </tr>\n",
       "    <tr>\n",
       "      <th>1581</th>\n",
       "      <td>-2.635502</td>\n",
       "      <td>3.755300</td>\n",
       "      <td>0.630651</td>\n",
       "      <td>-0.377662</td>\n",
       "      <td>0.023922</td>\n",
       "      <td>-0.185434</td>\n",
       "      <td>0.460348</td>\n",
       "      <td>-1.2</td>\n",
       "      <td>-1.4</td>\n",
       "    </tr>\n",
       "    <tr>\n",
       "      <th>2528</th>\n",
       "      <td>-0.498312</td>\n",
       "      <td>1.724196</td>\n",
       "      <td>2.358652</td>\n",
       "      <td>-0.940896</td>\n",
       "      <td>0.491071</td>\n",
       "      <td>-1.605473</td>\n",
       "      <td>0.460348</td>\n",
       "      <td>-0.4</td>\n",
       "      <td>-0.1</td>\n",
       "    </tr>\n",
       "    <tr>\n",
       "      <th>985</th>\n",
       "      <td>0.491322</td>\n",
       "      <td>-1.240389</td>\n",
       "      <td>0.075383</td>\n",
       "      <td>-0.928810</td>\n",
       "      <td>-0.752553</td>\n",
       "      <td>-0.023132</td>\n",
       "      <td>0.460348</td>\n",
       "      <td>0.2</td>\n",
       "      <td>0.3</td>\n",
       "    </tr>\n",
       "    <tr>\n",
       "      <th>956</th>\n",
       "      <td>-1.003658</td>\n",
       "      <td>1.322908</td>\n",
       "      <td>1.377440</td>\n",
       "      <td>-1.603669</td>\n",
       "      <td>2.210433</td>\n",
       "      <td>-0.829370</td>\n",
       "      <td>0.460348</td>\n",
       "      <td>-0.5</td>\n",
       "      <td>-0.5</td>\n",
       "    </tr>\n",
       "  </tbody>\n",
       "</table>\n",
       "</div>"
      ],
      "text/plain": [
       "      Life_expectancy  Data PC1  Data PC2  Data PC3  Data PC4  Data PC5  \\\n",
       "2131         0.038617 -1.863914  0.580560  1.936188 -0.695173  1.230475   \n",
       "1581        -2.635502  3.755300  0.630651 -0.377662  0.023922 -0.185434   \n",
       "2528        -0.498312  1.724196  2.358652 -0.940896  0.491071 -1.605473   \n",
       "985          0.491322 -1.240389  0.075383 -0.928810 -0.752553 -0.023132   \n",
       "956         -1.003658  1.322908  1.377440 -1.603669  2.210433 -0.829370   \n",
       "\n",
       "        Status  fitted_value  residual  \n",
       "2131  0.460348           0.5      -0.5  \n",
       "1581  0.460348          -1.2      -1.4  \n",
       "2528  0.460348          -0.4      -0.1  \n",
       "985   0.460348           0.2       0.3  \n",
       "956   0.460348          -0.5      -0.5  "
      ]
     },
     "execution_count": 32,
     "metadata": {},
     "output_type": "execute_result"
    }
   ],
   "source": [
    "df_f['fitted_value']= np.round(Model3.predict(X_train),1) #Predicted Value\n",
    "df_f['residual'] = np.round(df_f.Life_expectancy-df_f.fitted_value,1)  #Error\n",
    "df_f.head()"
   ]
  },
  {
   "cell_type": "markdown",
   "metadata": {},
   "source": [
    "# Linearity"
   ]
  },
  {
   "cell_type": "code",
   "execution_count": 34,
   "metadata": {},
   "outputs": [
    {
     "data": {
      "text/plain": [
       "<Axes: title={'center': 'sales vs TV'}, xlabel='Data PC1', ylabel='Life_expectancy'>"
      ]
     },
     "execution_count": 34,
     "metadata": {},
     "output_type": "execute_result"
    },
    {
     "data": {
      "image/png": "[encoded data removed]",
      "text/plain": [
       "<Figure size 640x480 with 1 Axes>"
      ]
     },
     "metadata": {},
     "output_type": "display_data"
    }
   ],
   "source": [
    "df.plot.scatter(x='Data PC1', y='Life_expectancy', title='sales vs TV')"
   ]
  },
  {
   "cell_type": "markdown",
   "metadata": {},
   "source": [
    "# Homoscedasicity"
   ]
  },
  {
   "cell_type": "code",
   "execution_count": 36,
   "metadata": {},
   "outputs": [
    {
     "data": {
      "text/plain": [
       "<Axes: xlabel='fitted_value', ylabel='residual'>"
      ]
     },
     "execution_count": 36,
     "metadata": {},
     "output_type": "execute_result"
    },
    {
     "data": {
      "image/png": "[encoded data removed]",
      "text/plain": [
       "<Figure size 640x480 with 1 Axes>"
      ]
     },
     "metadata": {},
     "output_type": "display_data"
    }
   ],
   "source": [
    "sns.scatterplot(x='fitted_value', y='residual',data=df_f)"
   ]
  },
  {
   "cell_type": "markdown",
   "metadata": {},
   "source": [
    "# Normality"
   ]
  },
  {
   "cell_type": "code",
   "execution_count": 37,
   "metadata": {},
   "outputs": [
    {
     "data": {
      "image/png": "[encoded data removed]",
      "text/plain": [
       "<Figure size 640x480 with 1 Axes>"
      ]
     },
     "metadata": {},
     "output_type": "display_data"
    }
   ],
   "source": [
    "import statsmodels.api as sm\n",
    "fig = sm.qqplot(df_f['residual'], fit=True, line='s') # s indicate standardized line\n",
    "plt.show()"
   ]
  },
  {
   "cell_type": "markdown",
   "metadata": {},
   "source": [
    "# Model Error are IID "
   ]
  },
  {
   "cell_type": "code",
   "execution_count": 38,
   "metadata": {},
   "outputs": [
    {
     "data": {
      "text/plain": [
       "<Axes: ylabel='Frequency'>"
      ]
     },
     "execution_count": 38,
     "metadata": {},
     "output_type": "execute_result"
    },
    {
     "data": {
      "image/png": "[encoded data removed]",
      "text/plain": [
       "<Figure size 640x480 with 1 Axes>"
      ]
     },
     "metadata": {},
     "output_type": "display_data"
    }
   ],
   "source": [
    "df_f['residual'].plot.hist()"
   ]
  },
  {
   "cell_type": "markdown",
   "metadata": {},
   "source": [
    "# Prediction on Test Data (unseen data)"
   ]
  },
  {
   "cell_type": "code",
   "execution_count": 39,
   "metadata": {},
   "outputs": [
    {
     "data": {
      "text/html": [
       "<div>\n",
       "<style scoped>\n",
       "    .dataframe tbody tr th:only-of-type {\n",
       "        vertical-align: middle;\n",
       "    }\n",
       "\n",
       "    .dataframe tbody tr th {\n",
       "        vertical-align: top;\n",
       "    }\n",
       "\n",
       "    .dataframe thead th {\n",
       "        text-align: right;\n",
       "    }\n",
       "</style>\n",
       "<table border=\"1\" class=\"dataframe\">\n",
       "  <thead>\n",
       "    <tr style=\"text-align: right;\">\n",
       "      <th></th>\n",
       "      <th>Data PC1</th>\n",
       "      <th>Data PC2</th>\n",
       "      <th>Data PC3</th>\n",
       "      <th>Data PC4</th>\n",
       "      <th>Data PC5</th>\n",
       "      <th>Status</th>\n",
       "      <th>Life_expectancy</th>\n",
       "    </tr>\n",
       "  </thead>\n",
       "  <tbody>\n",
       "    <tr>\n",
       "      <th>2374</th>\n",
       "      <td>3.494998</td>\n",
       "      <td>1.662141</td>\n",
       "      <td>0.596372</td>\n",
       "      <td>0.103409</td>\n",
       "      <td>-0.038069</td>\n",
       "      <td>0.460348</td>\n",
       "      <td>-1.793260</td>\n",
       "    </tr>\n",
       "    <tr>\n",
       "      <th>158</th>\n",
       "      <td>0.638404</td>\n",
       "      <td>-0.013083</td>\n",
       "      <td>-0.903173</td>\n",
       "      <td>-0.452722</td>\n",
       "      <td>-1.585366</td>\n",
       "      <td>0.460348</td>\n",
       "      <td>-0.182471</td>\n",
       "    </tr>\n",
       "    <tr>\n",
       "      <th>893</th>\n",
       "      <td>6.596508</td>\n",
       "      <td>0.608736</td>\n",
       "      <td>0.344734</td>\n",
       "      <td>0.413341</td>\n",
       "      <td>0.736525</td>\n",
       "      <td>0.460348</td>\n",
       "      <td>-1.687979</td>\n",
       "    </tr>\n",
       "    <tr>\n",
       "      <th>968</th>\n",
       "      <td>1.466319</td>\n",
       "      <td>-1.998776</td>\n",
       "      <td>-0.691399</td>\n",
       "      <td>0.574747</td>\n",
       "      <td>1.510291</td>\n",
       "      <td>0.460348</td>\n",
       "      <td>-1.129994</td>\n",
       "    </tr>\n",
       "    <tr>\n",
       "      <th>275</th>\n",
       "      <td>3.925949</td>\n",
       "      <td>1.781401</td>\n",
       "      <td>-1.461938</td>\n",
       "      <td>0.810700</td>\n",
       "      <td>-0.954304</td>\n",
       "      <td>0.460348</td>\n",
       "      <td>-1.045770</td>\n",
       "    </tr>\n",
       "  </tbody>\n",
       "</table>\n",
       "</div>"
      ],
      "text/plain": [
       "      Data PC1  Data PC2  Data PC3  Data PC4  Data PC5    Status  \\\n",
       "2374  3.494998  1.662141  0.596372  0.103409 -0.038069  0.460348   \n",
       "158   0.638404 -0.013083 -0.903173 -0.452722 -1.585366  0.460348   \n",
       "893   6.596508  0.608736  0.344734  0.413341  0.736525  0.460348   \n",
       "968   1.466319 -1.998776 -0.691399  0.574747  1.510291  0.460348   \n",
       "275   3.925949  1.781401 -1.461938  0.810700 -0.954304  0.460348   \n",
       "\n",
       "      Life_expectancy  \n",
       "2374        -1.793260  \n",
       "158         -0.182471  \n",
       "893         -1.687979  \n",
       "968         -1.129994  \n",
       "275         -1.045770  "
      ]
     },
     "execution_count": 39,
     "metadata": {},
     "output_type": "execute_result"
    }
   ],
   "source": [
    "df_test=pd.concat([X_test,y_test],axis=1)\n",
    "\n",
    "df_test.head()"
   ]
  },
  {
   "cell_type": "code",
   "execution_count": 40,
   "metadata": {
    "scrolled": true
   },
   "outputs": [
    {
     "data": {
      "text/html": [
       "<div>\n",
       "<style scoped>\n",
       "    .dataframe tbody tr th:only-of-type {\n",
       "        vertical-align: middle;\n",
       "    }\n",
       "\n",
       "    .dataframe tbody tr th {\n",
       "        vertical-align: top;\n",
       "    }\n",
       "\n",
       "    .dataframe thead th {\n",
       "        text-align: right;\n",
       "    }\n",
       "</style>\n",
       "<table border=\"1\" class=\"dataframe\">\n",
       "  <thead>\n",
       "    <tr style=\"text-align: right;\">\n",
       "      <th></th>\n",
       "      <th>Data PC1</th>\n",
       "      <th>Data PC2</th>\n",
       "      <th>Data PC3</th>\n",
       "      <th>Data PC4</th>\n",
       "      <th>Data PC5</th>\n",
       "      <th>Status</th>\n",
       "      <th>Life_expectancy</th>\n",
       "      <th>Prediction</th>\n",
       "    </tr>\n",
       "  </thead>\n",
       "  <tbody>\n",
       "    <tr>\n",
       "      <th>2374</th>\n",
       "      <td>3.494998</td>\n",
       "      <td>1.662141</td>\n",
       "      <td>0.596372</td>\n",
       "      <td>0.103409</td>\n",
       "      <td>-0.038069</td>\n",
       "      <td>0.460348</td>\n",
       "      <td>-1.793260</td>\n",
       "      <td>-1.1</td>\n",
       "    </tr>\n",
       "    <tr>\n",
       "      <th>158</th>\n",
       "      <td>0.638404</td>\n",
       "      <td>-0.013083</td>\n",
       "      <td>-0.903173</td>\n",
       "      <td>-0.452722</td>\n",
       "      <td>-1.585366</td>\n",
       "      <td>0.460348</td>\n",
       "      <td>-0.182471</td>\n",
       "      <td>0.0</td>\n",
       "    </tr>\n",
       "    <tr>\n",
       "      <th>893</th>\n",
       "      <td>6.596508</td>\n",
       "      <td>0.608736</td>\n",
       "      <td>0.344734</td>\n",
       "      <td>0.413341</td>\n",
       "      <td>0.736525</td>\n",
       "      <td>0.460348</td>\n",
       "      <td>-1.687979</td>\n",
       "      <td>-2.1</td>\n",
       "    </tr>\n",
       "    <tr>\n",
       "      <th>968</th>\n",
       "      <td>1.466319</td>\n",
       "      <td>-1.998776</td>\n",
       "      <td>-0.691399</td>\n",
       "      <td>0.574747</td>\n",
       "      <td>1.510291</td>\n",
       "      <td>0.460348</td>\n",
       "      <td>-1.129994</td>\n",
       "      <td>-0.8</td>\n",
       "    </tr>\n",
       "    <tr>\n",
       "      <th>275</th>\n",
       "      <td>3.925949</td>\n",
       "      <td>1.781401</td>\n",
       "      <td>-1.461938</td>\n",
       "      <td>0.810700</td>\n",
       "      <td>-0.954304</td>\n",
       "      <td>0.460348</td>\n",
       "      <td>-1.045770</td>\n",
       "      <td>-1.3</td>\n",
       "    </tr>\n",
       "  </tbody>\n",
       "</table>\n",
       "</div>"
      ],
      "text/plain": [
       "      Data PC1  Data PC2  Data PC3  Data PC4  Data PC5    Status  \\\n",
       "2374  3.494998  1.662141  0.596372  0.103409 -0.038069  0.460348   \n",
       "158   0.638404 -0.013083 -0.903173 -0.452722 -1.585366  0.460348   \n",
       "893   6.596508  0.608736  0.344734  0.413341  0.736525  0.460348   \n",
       "968   1.466319 -1.998776 -0.691399  0.574747  1.510291  0.460348   \n",
       "275   3.925949  1.781401 -1.461938  0.810700 -0.954304  0.460348   \n",
       "\n",
       "      Life_expectancy  Prediction  \n",
       "2374        -1.793260        -1.1  \n",
       "158         -0.182471         0.0  \n",
       "893         -1.687979        -2.1  \n",
       "968         -1.129994        -0.8  \n",
       "275         -1.045770        -1.3  "
      ]
     },
     "execution_count": 40,
     "metadata": {},
     "output_type": "execute_result"
    }
   ],
   "source": [
    "df_test['Prediction']= np.round(Model3.predict(X_test),1) # predict = all row prediction ( Auto )\n",
    "df_test.head()  # np.round(Model3.predict(X_train),1)"
   ]
  },
  {
   "cell_type": "markdown",
   "metadata": {},
   "source": [
    "# Train"
   ]
  },
  {
   "cell_type": "code",
   "execution_count": 41,
   "metadata": {},
   "outputs": [
    {
     "name": "stdout",
     "output_type": "stream",
     "text": [
      "R2 score for model Performance on Test 0.81\n"
     ]
    }
   ],
   "source": [
    "from sklearn.metrics import r2_score\n",
    "r2 = r2_score(df_f.Life_expectancy, df_f.fitted_value)\n",
    "print('R2 score for model Performance on Test', np.round(r2,2))"
   ]
  },
  {
   "cell_type": "markdown",
   "metadata": {},
   "source": [
    "# Test"
   ]
  },
  {
   "cell_type": "code",
   "execution_count": 42,
   "metadata": {},
   "outputs": [
    {
     "name": "stdout",
     "output_type": "stream",
     "text": [
      "R2 score for model Performance on Test 0.8\n"
     ]
    }
   ],
   "source": [
    "from sklearn.metrics import r2_score\n",
    "r2 = r2_score(df_test.Life_expectancy, df_test.Prediction)\n",
    "print('R2 score for model Performance on Test', np.round(r2,2))"
   ]
  },
  {
   "cell_type": "markdown",
   "metadata": {},
   "source": [
    "* Model is good fit on Train dataset  & Performance of model on Test data is also good fit "
   ]
  },
  {
   "cell_type": "markdown",
   "metadata": {},
   "source": [
    "# Loss / Cost / Error Function - RMSE"
   ]
  },
  {
   "cell_type": "code",
   "execution_count": 44,
   "metadata": {},
   "outputs": [
    {
     "name": "stdout",
     "output_type": "stream",
     "text": [
      "Train RMSE 0.431\n"
     ]
    }
   ],
   "source": [
    "import math\n",
    "from sklearn.metrics import mean_squared_error\n",
    "model_mse = mean_squared_error(df_f['Life_expectancy'], df_f['fitted_value'])\n",
    "model_rmse = math.sqrt(model_mse)\n",
    "print(\"Train RMSE {:.3}\".format(model_rmse))\n",
    "\n",
    "#import math\n",
    "#from sklearn.metrics import mean_squared_error\n",
    "#model_mse = mean_squared_error(df['sales'], df['fitted_value'])\n",
    "#model_rmse = math.sqrt(model_mse)\n",
    "#print(\"Train RMSE {:.3}\".format(model_rmse))"
   ]
  },
  {
   "cell_type": "code",
   "execution_count": 45,
   "metadata": {},
   "outputs": [
    {
     "name": "stdout",
     "output_type": "stream",
     "text": [
      "Test RMSE 0.448\n"
     ]
    }
   ],
   "source": [
    "import math\n",
    "from sklearn.metrics import mean_squared_error\n",
    "# calculate the mean squared error\n",
    "model_mse = mean_squared_error(df_test['Life_expectancy'], df_test['Prediction'])\n",
    "model_rmse = math.sqrt(model_mse)\n",
    "print(\"Test RMSE {:.3}\".format(model_rmse))"
   ]
  },
  {
   "cell_type": "code",
   "execution_count": null,
   "metadata": {},
   "outputs": [],
   "source": [
    "import pickle\n",
    "pickle.dump(lreg, open(r\"C:\\Users\\Akshay\\Desktop\\Cloud\\advtModel.pkl\",'wb'))"
   ]
  },
  {
   "cell_type": "markdown",
   "metadata": {},
   "source": [
    "# Finish"
   ]
  }
 ],
 "metadata": {
  "kernelspec": {
   "display_name": "Python 3 (ipykernel)",
   "language": "python",
   "name": "python3"
  },
  "language_info": {
   "codemirror_mode": {
    "name": "ipython",
    "version": 3
   },
   "file_extension": ".py",
   "mimetype": "text/x-python",
   "name": "python",
   "nbconvert_exporter": "python",
   "pygments_lexer": "ipython3",
   "version": "3.10.9"
  }
 },
 "nbformat": 4,
 "nbformat_minor": 2
}
